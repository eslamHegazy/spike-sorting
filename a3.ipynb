{
 "cells": [
  {
   "cell_type": "code",
   "execution_count": 1,
   "id": "9e9b3d64",
   "metadata": {},
   "outputs": [],
   "source": [
    "import numpy as np\n",
    "from sklearn.decomposition import PCA\n",
    "from sklearn.cluster import KMeans\n",
    "import matplotlib.pyplot as plt"
   ]
  },
  {
   "cell_type": "code",
   "execution_count": 2,
   "id": "c8783fbb",
   "metadata": {},
   "outputs": [],
   "source": [
    "def remove_dup(above, T):\n",
    "    k = above.tolist()\n",
    "    i = 0\n",
    "    while i<len(k)-1:\n",
    "        if k[i] > k[i+1]-T:\n",
    "            k.pop(i+1)\n",
    "            i-=1\n",
    "        i+=1\n",
    "    i = 0\n",
    "    return np.array(k)"
   ]
  },
  {
   "cell_type": "code",
   "execution_count": 3,
   "id": "0dd1f99c",
   "metadata": {},
   "outputs": [],
   "source": [
    "def align(x, index, T):\n",
    "    sig = x[index:index+T]\n",
    "    cent = np.where(sig==np.max(sig))[0][0]\n",
    "    aligned_start = index + cent-T//2\n",
    "    return x[aligned_start:aligned_start+T]"
   ]
  },
  {
   "cell_type": "code",
   "execution_count": 4,
   "id": "8dd5ad48",
   "metadata": {},
   "outputs": [],
   "source": [
    "def detect_and_align_spikes(x, n_samples, factor=3.5):\n",
    "    threshold = factor * np.std(x[:500])\n",
    "    above = np.where(x>threshold)[0]\n",
    "    spikes_starts = remove_dup(above, n_samples)\n",
    "    peak_indices = np.array(spikes_starts+T//2)\n",
    "    spikes = [align(x, index, n_samples) for index in spikes_starts]\n",
    "    return spikes, peak_indices"
   ]
  },
  {
   "cell_type": "code",
   "execution_count": 5,
   "id": "bbf3dfa0",
   "metadata": {},
   "outputs": [],
   "source": [
    "def plot_marked(x, i_st, i_end, markers, markers_types):\n",
    "    selection = np.where(np.logical_and(markers>=i_st, markers<i_end))[0]\n",
    "    sig = np.array(x[i_st: i_end])\n",
    "    colors = np.array(['b', 'r', 'g', 'c', 'm', 'y', 'k'])\n",
    "    marker_colors = colors[markers_types[selection]]\n",
    "#     y = [1e-4] * len(selection)\n",
    "    plt.subplots(figsize=(16,8))\n",
    "    plt.title(\"Detected Spikes\")\n",
    "    plt.plot(sig, zorder=1)\n",
    "    xs = np.array(markers[selection]-i_st, dtype=np.int64)\n",
    "    ys = sig[xs]\n",
    "    plt.scatter(xs, ys, c=marker_colors, marker=\"*\", zorder=2)"
   ]
  },
  {
   "cell_type": "code",
   "execution_count": 6,
   "id": "be5f2a5d",
   "metadata": {},
   "outputs": [],
   "source": [
    "def detect_spikes_and_pca(x, factor, filename, sampling_rate=24414, spike_duration_in_ms=2):\n",
    "    spike_n_samples = round(spike_duration_in_ms*sampling_rate/1000)\n",
    "    spikes, peaks_indices = detect_and_align_spikes(x, spike_n_samples, factor)\n",
    "    pca = PCA(n_components = 2)\n",
    "    pca.fit(spikes)\n",
    "    spikes_tr = pca.transform(spikes)\n",
    "    plt.figure(figsize=(16,6))\n",
    "    plt.scatter(spikes_tr[:,0], spikes_tr[:,1])\n",
    "    plt.savefig(filename)\n",
    "    return spikes, peaks_indices"
   ]
  },
  {
   "cell_type": "code",
   "execution_count": 7,
   "id": "28bd2864",
   "metadata": {},
   "outputs": [],
   "source": [
    "def cluster_and_mark_spikes(x, spikes, peaks_indices, n_clusters, filename, i_st=0, i_end=20000):\n",
    "    kmeans = KMeans(n_clusters=n_clusters)\n",
    "    kmeans.fit(spikes) #original data\n",
    "    plot_marked(x, i_st, i_end, peaks_indices, kmeans.labels_)\n",
    "    plt.savefig(filename)"
   ]
  },
  {
   "cell_type": "code",
   "execution_count": 8,
   "id": "5822efb3",
   "metadata": {},
   "outputs": [],
   "source": [
    "data = np.genfromtxt('Data.txt')\n",
    "x = data\n",
    "x0 = x[:,0]\n",
    "x1 = x[:,1]"
   ]
  },
  {
   "cell_type": "code",
   "execution_count": 9,
   "id": "4c885f05",
   "metadata": {},
   "outputs": [
    {
     "ename": "NameError",
     "evalue": "name 'T' is not defined",
     "output_type": "error",
     "traceback": [
      "\u001b[1;31m---------------------------------------------------------------------------\u001b[0m",
      "\u001b[1;31mNameError\u001b[0m                                 Traceback (most recent call last)",
      "\u001b[1;32m~\\AppData\\Local\\Temp/ipykernel_1548/3901564000.py\u001b[0m in \u001b[0;36m<module>\u001b[1;34m\u001b[0m\n\u001b[1;32m----> 1\u001b[1;33m \u001b[0mspikes\u001b[0m\u001b[1;33m,\u001b[0m \u001b[0mpeaks_indices\u001b[0m \u001b[1;33m=\u001b[0m \u001b[0mdetect_spikes_and_pca\u001b[0m\u001b[1;33m(\u001b[0m\u001b[0mx0\u001b[0m\u001b[1;33m,\u001b[0m \u001b[1;36m3.5\u001b[0m\u001b[1;33m,\u001b[0m \u001b[1;34m\"FeatureSpace_1_3_5.jpg\"\u001b[0m\u001b[1;33m)\u001b[0m\u001b[1;33m\u001b[0m\u001b[0m\n\u001b[0m\u001b[0;32m      2\u001b[0m \u001b[1;31m# 3 Clusters\u001b[0m\u001b[1;33m\u001b[0m\u001b[1;33m\u001b[0m\u001b[0m\n\u001b[0;32m      3\u001b[0m \u001b[0mcluster_and_mark_spikes\u001b[0m\u001b[1;33m(\u001b[0m\u001b[0mx0\u001b[0m\u001b[1;33m,\u001b[0m \u001b[0mspikes\u001b[0m\u001b[1;33m,\u001b[0m \u001b[0mpeaks_indices\u001b[0m\u001b[1;33m,\u001b[0m \u001b[0mn_clusters\u001b[0m\u001b[1;33m=\u001b[0m\u001b[1;36m3\u001b[0m\u001b[1;33m,\u001b[0m \u001b[0mfilename\u001b[0m\u001b[1;33m=\u001b[0m\u001b[1;34m'DetectedSpikes_1_3_5.jpg'\u001b[0m\u001b[1;33m)\u001b[0m\u001b[1;33m\u001b[0m\u001b[0m\n",
      "\u001b[1;32m~\\AppData\\Local\\Temp/ipykernel_1548/1706458157.py\u001b[0m in \u001b[0;36mdetect_spikes_and_pca\u001b[1;34m(x, factor, filename, sampling_rate, spike_duration_in_ms)\u001b[0m\n\u001b[0;32m      1\u001b[0m \u001b[1;32mdef\u001b[0m \u001b[0mdetect_spikes_and_pca\u001b[0m\u001b[1;33m(\u001b[0m\u001b[0mx\u001b[0m\u001b[1;33m,\u001b[0m \u001b[0mfactor\u001b[0m\u001b[1;33m,\u001b[0m \u001b[0mfilename\u001b[0m\u001b[1;33m,\u001b[0m \u001b[0msampling_rate\u001b[0m\u001b[1;33m=\u001b[0m\u001b[1;36m24414\u001b[0m\u001b[1;33m,\u001b[0m \u001b[0mspike_duration_in_ms\u001b[0m\u001b[1;33m=\u001b[0m\u001b[1;36m2\u001b[0m\u001b[1;33m)\u001b[0m\u001b[1;33m:\u001b[0m\u001b[1;33m\u001b[0m\u001b[0m\n\u001b[0;32m      2\u001b[0m     \u001b[0mspike_n_samples\u001b[0m \u001b[1;33m=\u001b[0m \u001b[0mround\u001b[0m\u001b[1;33m(\u001b[0m\u001b[0mspike_duration_in_ms\u001b[0m\u001b[1;33m*\u001b[0m\u001b[0msampling_rate\u001b[0m\u001b[1;33m/\u001b[0m\u001b[1;36m1000\u001b[0m\u001b[1;33m)\u001b[0m\u001b[1;33m\u001b[0m\u001b[0m\n\u001b[1;32m----> 3\u001b[1;33m     \u001b[0mspikes\u001b[0m\u001b[1;33m,\u001b[0m \u001b[0mpeaks_indices\u001b[0m \u001b[1;33m=\u001b[0m \u001b[0mdetect_and_align_spikes\u001b[0m\u001b[1;33m(\u001b[0m\u001b[0mx\u001b[0m\u001b[1;33m,\u001b[0m \u001b[0mspike_n_samples\u001b[0m\u001b[1;33m,\u001b[0m \u001b[0mfactor\u001b[0m\u001b[1;33m)\u001b[0m\u001b[1;33m\u001b[0m\u001b[0m\n\u001b[0m\u001b[0;32m      4\u001b[0m     \u001b[0mpca\u001b[0m \u001b[1;33m=\u001b[0m \u001b[0mPCA\u001b[0m\u001b[1;33m(\u001b[0m\u001b[0mn_components\u001b[0m \u001b[1;33m=\u001b[0m \u001b[1;36m2\u001b[0m\u001b[1;33m)\u001b[0m\u001b[1;33m\u001b[0m\u001b[0m\n\u001b[0;32m      5\u001b[0m     \u001b[0mpca\u001b[0m\u001b[1;33m.\u001b[0m\u001b[0mfit\u001b[0m\u001b[1;33m(\u001b[0m\u001b[0mspikes\u001b[0m\u001b[1;33m)\u001b[0m\u001b[1;33m\u001b[0m\u001b[0m\n",
      "\u001b[1;32m~\\AppData\\Local\\Temp/ipykernel_1548/3531629536.py\u001b[0m in \u001b[0;36mdetect_and_align_spikes\u001b[1;34m(x, n_samples, factor)\u001b[0m\n\u001b[0;32m      3\u001b[0m     \u001b[0mabove\u001b[0m \u001b[1;33m=\u001b[0m \u001b[0mnp\u001b[0m\u001b[1;33m.\u001b[0m\u001b[0mwhere\u001b[0m\u001b[1;33m(\u001b[0m\u001b[0mx\u001b[0m\u001b[1;33m>\u001b[0m\u001b[0mthreshold\u001b[0m\u001b[1;33m)\u001b[0m\u001b[1;33m[\u001b[0m\u001b[1;36m0\u001b[0m\u001b[1;33m]\u001b[0m\u001b[1;33m\u001b[0m\u001b[0m\n\u001b[0;32m      4\u001b[0m     \u001b[0mspikes_starts\u001b[0m \u001b[1;33m=\u001b[0m \u001b[0mremove_dup\u001b[0m\u001b[1;33m(\u001b[0m\u001b[0mabove\u001b[0m\u001b[1;33m,\u001b[0m \u001b[0mn_samples\u001b[0m\u001b[1;33m)\u001b[0m\u001b[1;33m\u001b[0m\u001b[0m\n\u001b[1;32m----> 5\u001b[1;33m     \u001b[0mpeak_indices\u001b[0m \u001b[1;33m=\u001b[0m \u001b[0mnp\u001b[0m\u001b[1;33m.\u001b[0m\u001b[0marray\u001b[0m\u001b[1;33m(\u001b[0m\u001b[0mspikes_starts\u001b[0m\u001b[1;33m+\u001b[0m\u001b[0mT\u001b[0m\u001b[1;33m//\u001b[0m\u001b[1;36m2\u001b[0m\u001b[1;33m)\u001b[0m\u001b[1;33m\u001b[0m\u001b[0m\n\u001b[0m\u001b[0;32m      6\u001b[0m     \u001b[0mspikes\u001b[0m \u001b[1;33m=\u001b[0m \u001b[1;33m[\u001b[0m\u001b[0malign\u001b[0m\u001b[1;33m(\u001b[0m\u001b[0mx\u001b[0m\u001b[1;33m,\u001b[0m \u001b[0mindex\u001b[0m\u001b[1;33m,\u001b[0m \u001b[0mn_samples\u001b[0m\u001b[1;33m)\u001b[0m \u001b[1;32mfor\u001b[0m \u001b[0mindex\u001b[0m \u001b[1;32min\u001b[0m \u001b[0mspikes_starts\u001b[0m\u001b[1;33m]\u001b[0m\u001b[1;33m\u001b[0m\u001b[0m\n\u001b[0;32m      7\u001b[0m     \u001b[1;32mreturn\u001b[0m \u001b[0mspikes\u001b[0m\u001b[1;33m,\u001b[0m \u001b[0mpeak_indices\u001b[0m\u001b[1;33m\u001b[0m\u001b[0m\n",
      "\u001b[1;31mNameError\u001b[0m: name 'T' is not defined"
     ]
    }
   ],
   "source": [
    "spikes, peaks_indices = detect_spikes_and_pca(x0, 3.5, \"FeatureSpace_1_3_5.jpg\")\n",
    "# 3 Clusters \n",
    "cluster_and_mark_spikes(x0, spikes, peaks_indices, n_clusters=3, filename='DetectedSpikes_1_3_5.jpg')"
   ]
  },
  {
   "cell_type": "code",
   "execution_count": null,
   "id": "f8894e87",
   "metadata": {},
   "outputs": [],
   "source": [
    "spikes, peaks_indices = detect_spikes_and_pca(x0, 5, \"FeatureSpace_1_5.jpg\")\n",
    "# 2 clusters\n",
    "cluster_and_mark_spikes(x0, spikes, peaks_indices, n_clusters=2, filename='DetectedSpikes_1_5.jpg')"
   ]
  },
  {
   "cell_type": "code",
   "execution_count": null,
   "id": "c4b26044",
   "metadata": {},
   "outputs": [],
   "source": [
    "spikes, peaks_indices = detect_spikes_and_pca(x1, 3.5, \"FeatureSpace_2_3_5.jpg\")\n",
    "# 2 clusters\n",
    "cluster_and_mark_spikes(x1, spikes, peaks_indices, n_clusters=2, filename='DetectedSpikes_2_3_5.jpg')"
   ]
  },
  {
   "cell_type": "code",
   "execution_count": null,
   "id": "552aaebf",
   "metadata": {},
   "outputs": [],
   "source": [
    "spikes, peaks_indices = detect_spikes_and_pca(x1, 5, \"FeatureSpace_2_3_5.jpg\")\n",
    "# 2 clusters\n",
    "cluster_and_mark_spikes(x1, spikes, peaks_indices, n_clusters=2, filename='DetectedSpikes_2_5.jpg')"
   ]
  },
  {
   "cell_type": "code",
   "execution_count": null,
   "id": "a7e55b7d",
   "metadata": {},
   "outputs": [],
   "source": []
  }
 ],
 "metadata": {
  "kernelspec": {
   "display_name": "Python 3 (ipykernel)",
   "language": "python",
   "name": "python3"
  },
  "language_info": {
   "codemirror_mode": {
    "name": "ipython",
    "version": 3
   },
   "file_extension": ".py",
   "mimetype": "text/x-python",
   "name": "python",
   "nbconvert_exporter": "python",
   "pygments_lexer": "ipython3",
   "version": "3.7.0"
  }
 },
 "nbformat": 4,
 "nbformat_minor": 5
}
